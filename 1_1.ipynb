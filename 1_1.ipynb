{
 "cells": [
  {
   "cell_type": "markdown",
   "metadata": {},
   "source": [
    "## 习题1.1 ##"
   ]
  },
  {
   "cell_type": "code",
   "execution_count": 23,
   "metadata": {},
   "outputs": [],
   "source": [
    "import numpy as np"
   ]
  },
  {
   "cell_type": "code",
   "execution_count": 9,
   "metadata": {},
   "outputs": [
    {
     "data": {
      "text/plain": [
       "array([-6.1  , -6.01 , -6.001, -5.999, -5.99 , -5.9  ])"
      ]
     },
     "execution_count": 9,
     "metadata": {},
     "output_type": "execute_result"
    }
   ],
   "source": [
    "# 19\n",
    "x = np.array([-3.1, -3.01, -3.001, -2.999, -2.99, -2.9])\n",
    "y = (x ** 2 - 9) / (x + 3)\n",
    "y"
   ]
  },
  {
   "cell_type": "code",
   "execution_count": 14,
   "metadata": {},
   "outputs": [
    {
     "name": "stdout",
     "output_type": "stream",
     "text": [
      "1.4142135623730951\n"
     ]
    },
    {
     "data": {
      "text/plain": [
       "array([2.81421356, 2.82421356, 2.82821356, 2.82841356, 2.82841356])"
      ]
     },
     "execution_count": 14,
     "metadata": {},
     "output_type": "execute_result"
    }
   ],
   "source": [
    "# 20\n",
    "sqrt_2 = 2 ** (1/2)\n",
    "print(sqrt_2)\n",
    "x = np.array([1.4, 1.41, 1.414, 1.4142, 1.4142])\n",
    "y = (x ** 2 - 2) / (x - sqrt_2)\n",
    "y"
   ]
  },
  {
   "cell_type": "code",
   "execution_count": 16,
   "metadata": {},
   "outputs": [
    {
     "data": {
      "text/plain": [
       "array([-0.12658228, -0.12515645, -0.12501563, -0.12500156])"
      ]
     },
     "execution_count": 16,
     "metadata": {},
     "output_type": "execute_result"
    }
   ],
   "source": [
    "# 21\n",
    "x = np.array([-5.9, -5.99, -5.999, -5.9999])\n",
    "y = (x + 6) / (x**2 + 4*x - 12)\n",
    "y"
   ]
  },
  {
   "cell_type": "code",
   "execution_count": 17,
   "metadata": {},
   "outputs": [
    {
     "data": {
      "text/plain": [
       "array([2.05263158, 2.00502513, 2.00050025, 1.99950025, 1.99502488,\n",
       "       1.95238095])"
      ]
     },
     "execution_count": 17,
     "metadata": {},
     "output_type": "execute_result"
    }
   ],
   "source": [
    "# 22\n",
    "x = np.array([2.9, 2.99, 2.999, 3.001, 3.01, 3.1])\n",
    "y = (x**2 - 2*x - 3) / (x**2 - 4*x + 3)\n",
    "y"
   ]
  },
  {
   "cell_type": "code",
   "execution_count": 25,
   "metadata": {},
   "outputs": [
    {
     "data": {
      "text/plain": [
       "array([0.99833417, 0.99998333, 0.99999983, 1.        , 1.        ,\n",
       "       0.99999983, 0.99998333, 0.99833417])"
      ]
     },
     "execution_count": 25,
     "metadata": {},
     "output_type": "execute_result"
    }
   ],
   "source": [
    "# 23\n",
    "theta = np.array([-.1, -.01, -.001, -.0001, .0001, .001, .01, .1])\n",
    "y = np.sin(theta) / theta\n",
    "y"
   ]
  },
  {
   "cell_type": "code",
   "execution_count": 28,
   "metadata": {},
   "outputs": [
    {
     "data": {
      "text/plain": [
       "array([0.49958347, 0.49999583, 0.49999996, 0.5       , 0.5       ,\n",
       "       0.49999996, 0.49999583, 0.49958347])"
      ]
     },
     "execution_count": 28,
     "metadata": {},
     "output_type": "execute_result"
    }
   ],
   "source": [
    "# 24\n",
    "t = np.array([-.1, -.01, -.001, -.0001, .0001, .001, .01, .1])\n",
    "y = (1 - np.cos(t)) / (t**2)\n",
    "y"
   ]
  },
  {
   "cell_type": "code",
   "execution_count": 33,
   "metadata": {},
   "outputs": [
    {
     "data": {
      "text/plain": [
       "array([0.34867844, 0.36603234, 0.36769542, 0.36786105, 0.36789783,\n",
       "       0.3680633 , 0.36971121, 0.38554329])"
      ]
     },
     "execution_count": 33,
     "metadata": {},
     "output_type": "execute_result"
    }
   ],
   "source": [
    "# 25\n",
    "x = np.array([0.9, 0.99, 0.999, 0.9999, 1.0001, 1.001, 1.01, 1.1])\n",
    "y = x**(1/(1-x))\n",
    "y"
   ]
  },
  {
   "cell_type": "code",
   "execution_count": 36,
   "metadata": {},
   "outputs": [
    {
     "data": {
      "text/plain": [
       "array([1.0404154 , 1.09259958, 1.09800904, 1.09855194, 1.09860625,\n",
       "       1.09861832, 1.09867264, 1.09921598, 1.10466919, 1.16123174])"
      ]
     },
     "execution_count": 36,
     "metadata": {},
     "output_type": "execute_result"
    }
   ],
   "source": [
    "# 26\n",
    "x = np.array([-.1, -.01, -.001, -.0001, -.00001, .00001, .0001, .001, .01, .1])\n",
    "y = (3**x - 1)/x\n",
    "y"
   ]
  },
  {
   "cell_type": "code",
   "execution_count": 38,
   "metadata": {},
   "outputs": [
    {
     "name": "stdout",
     "output_type": "stream",
     "text": [
      "[-5.44021111e-02 -5.06365641e-03  8.26879541e-04 -3.05614389e-05]\n",
      "[-5.44021111e-02 -5.06365641e-03  8.26879541e-04 -3.05614389e-05]\n"
     ]
    }
   ],
   "source": [
    "# 43\n",
    "x = np.array([-.1, -.01, -.001, -.0001])\n",
    "y = x * np.sin(1/x)\n",
    "print(y)\n",
    "x = np.array([.1, .01, .001, .0001])\n",
    "y = x * np.sin(1/x)\n",
    "print(y)"
   ]
  },
  {
   "cell_type": "code",
   "execution_count": 39,
   "metadata": {},
   "outputs": [
    {
     "name": "stdout",
     "output_type": "stream",
     "text": [
      "[ 0.54402111  0.50636564 -0.82687954  0.30561439]\n",
      "[-0.54402111 -0.50636564  0.82687954 -0.30561439]\n"
     ]
    }
   ],
   "source": [
    "# 44\n",
    "x = np.array([-.1, -.01, -.001, -.0001])\n",
    "y = np.sin(1/x)\n",
    "print(y)\n",
    "x = np.array([.1, .01, .001, .0001])\n",
    "y = np.sin(1/x)\n",
    "print(y)"
   ]
  },
  {
   "cell_type": "code",
   "execution_count": 40,
   "metadata": {},
   "outputs": [
    {
     "name": "stdout",
     "output_type": "stream",
     "text": [
      "[2.05671765 2.2762779  2.29993618 2.30232002]\n",
      "[2.58925412 2.32929923 2.30523808 2.30285021]\n"
     ]
    }
   ],
   "source": [
    "# 45\n",
    "x = np.array([-.1, -.01, -.001, -.0001])\n",
    "y = (10**x - 1)/x\n",
    "print(y)\n",
    "x = np.array([.1, .01, .001, .0001])\n",
    "y = (10**x - 1)/x\n",
    "print(y)"
   ]
  },
  {
   "cell_type": "code",
   "execution_count": 41,
   "metadata": {},
   "outputs": [
    {
     "name": "stdout",
     "output_type": "stream",
     "text": [
      "[ 7.43980337e-02 -9.94257569e-03  5.84748482e-04  2.12797932e-05]\n",
      "[-7.43980337e-02  9.94257569e-03 -5.84748482e-04 -2.12797932e-05]\n"
     ]
    }
   ],
   "source": [
    "# 46\n",
    "x = np.array([-.1, -.01, -.001, -.0001])\n",
    "y = x * np.sin(np.log(np.abs(x)))\n",
    "print(y)\n",
    "x = np.array([.1, .01, .001, .0001])\n",
    "y = x * np.sin(np.log(np.abs(x)))\n",
    "print(y)"
   ]
  },
  {
   "cell_type": "code",
   "execution_count": null,
   "metadata": {},
   "outputs": [],
   "source": [
    "# 47\n"
   ]
  }
 ],
 "metadata": {
  "kernelspec": {
   "display_name": "Python 3",
   "language": "python",
   "name": "python3"
  },
  "language_info": {
   "codemirror_mode": {
    "name": "ipython",
    "version": 3
   },
   "file_extension": ".py",
   "mimetype": "text/x-python",
   "name": "python",
   "nbconvert_exporter": "python",
   "pygments_lexer": "ipython3",
   "version": "3.6.3"
  }
 },
 "nbformat": 4,
 "nbformat_minor": 4
}
